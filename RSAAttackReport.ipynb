{
 "cells": [
  {
   "cell_type": "markdown",
   "metadata": {
    "collapsed": true,
    "pycharm": {
     "name": "#%% md\n"
    }
   },
   "source": [
    "## RSA密码破译project 实现代码\n",
    "---\n",
    "通过实验以下十余种攻击方法，共破解出除data5 9 13 14 17以外的16组数据，得到11组明文，串联如下：\n",
    "My secret is a famous saying of Albert Einstein. That is\"Logic will get\\<TODO:message09>m A to B. Imagin\\<TODO:message12-message??>\n",
    "\n",
    "（尽管已经不属于RSA破译的范畴，但在得知以上信息的情况下，已经可以根据a famous saying of Albert Einstein搜索到完整的这句话并推测出剩余的明文）"
   ]
  },
  {
   "cell_type": "code",
   "execution_count": 8,
   "outputs": [],
   "source": [
    "from factordb.factordb import FactorDB\n",
    "import libnum\n",
    "import gmpy2\n",
    "import primefac\n",
    "def read_file(file_name):\n",
    "    \"\"\"\n",
    "    读取data数据。\n",
    "    :param file_name:\n",
    "    :return: (N, e, c)列表\n",
    "    \"\"\"\n",
    "    with open(file_name) as file:\n",
    "        data = file.readline(1024)\n",
    "        N = data[0:256]\n",
    "        e = data[256:512]\n",
    "        c = data[512:768]\n",
    "        return map(lambda x: (int)(x, base=16), (N, e, c))\n",
    "\n",
    "def read_multiple_file(file_ids):\n",
    "    \"\"\"\n",
    "    批量读取data数据。\n",
    "    :param file_ids: data的编号\n",
    "    :return: (Ns, es, cs)列表\n",
    "    \"\"\"\n",
    "    Ns, es, cs = [], [], []\n",
    "    for i in file_ids:\n",
    "        N, e, c = read_file(\"./dataset/data\"+str(i))\n",
    "        Ns.append(N)\n",
    "        cs.append(c)\n",
    "        es.append(e)\n",
    "    return Ns, es, cs"
   ],
   "metadata": {
    "collapsed": false,
    "pycharm": {
     "name": "#%%\n"
    }
   }
  },
  {
   "cell_type": "markdown",
   "source": [
    "### 共模攻击\n",
    "可以解出data0和data4\n",
    "解密结果：b'\\x98vT2\\x10\\xab\\xcd\\xef\\x00\\x00\\x00\\x00\\x00\\x00\\x00\\x00\\x00\\x00\\x00\\x00\\x00\\x00\\x00\\x00\\x00\\x00\\x00\\x00\\x00\\x00\\x00\\x00\\x00\\x00\\x00\\x00\\x00\\x00\\x00\\x00\\x00\\x00\\x00\\x00\\x00\\x00\\x00\\x00\\x00\\x00\\x00\\x00\\x00\\x00\\x00\\x00My secre'\n",
    "该部分明文：My secre"
   ],
   "metadata": {
    "collapsed": false,
    "pycharm": {
     "name": "#%% md\n"
    }
   }
  },
  {
   "cell_type": "code",
   "execution_count": 3,
   "outputs": [
    {
     "name": "stdout",
     "output_type": "stream",
     "text": [
      "b'\\x98vT2\\x10\\xab\\xcd\\xef\\x00\\x00\\x00\\x00\\x00\\x00\\x00\\x00\\x00\\x00\\x00\\x00\\x00\\x00\\x00\\x00\\x00\\x00\\x00\\x00\\x00\\x00\\x00\\x00\\x00\\x00\\x00\\x00\\x00\\x00\\x00\\x00\\x00\\x00\\x00\\x00\\x00\\x00\\x00\\x00\\x00\\x00\\x00\\x00\\x00\\x00\\x00\\x00My secre'\n"
     ]
    }
   ],
   "source": [
    "def CMAAttack(N, es, cs):\n",
    "    \"\"\"\n",
    "    共模攻击。\n",
    "    原理：两组数据使用了相同的N，令e1s1+e2s2=1，则m=c1^s1*c2^s2 mod N\n",
    "    :param N:\n",
    "    :param es:\n",
    "    :param cs:\n",
    "    :return:明文m（数字形式）\n",
    "    \"\"\"\n",
    "    assert len(es) == 2 and len(cs) == 2\n",
    "    u, v, gcd = libnum.xgcd(es[0], es[1])\n",
    "    if gcd != 1:\n",
    "        raise Exception(\"e1 is not prime to e2\")\n",
    "    m = pow(cs[0], u, N) * pow(cs[1], v, N) % N\n",
    "    return m\n",
    "\n",
    "Ns, es, cs = read_multiple_file([0, 4])\n",
    "assert Ns[0] == Ns[1]\n",
    "m = CMAAttack(Ns[0], es, cs)\n",
    "print(libnum.n2s(m))"
   ],
   "metadata": {
    "collapsed": false,
    "pycharm": {
     "name": "#%%\n"
    }
   }
  },
  {
   "cell_type": "markdown",
   "source": [
    "### 模不互素攻击\n",
    "可以解出data1和data18\n",
    "解密结果：\n",
    "data1: b'\\x98vT2\\x10\\xab\\xcd\\xef\\x00\\x00\\x00\\x0b\\x00\\x00\\x00\\x00\\x00\\x00\\x00\\x00\\x00\\x00\\x00\\x00\\x00\\x00\\x00\\x00\\x00\\x00\\x00\\x00\\x00\\x00\\x00\\x00\\x00\\x00\\x00\\x00\\x00\\x00\\x00\\x00\\x00\\x00\\x00\\x00\\x00\\x00\\x00\\x00\\x00\\x00\\x00\\x00. Imagin'\n",
    "data18: b'\\x98vT2\\x10\\xab\\xcd\\xef\\x00\\x00\\x00\\n\\x00\\x00\\x00\\x00\\x00\\x00\\x00\\x00\\x00\\x00\\x00\\x00\\x00\\x00\\x00\\x00\\x00\\x00\\x00\\x00\\x00\\x00\\x00\\x00\\x00\\x00\\x00\\x00\\x00\\x00\\x00\\x00\\x00\\x00\\x00\\x00\\x00\\x00\\x00\\x00\\x00\\x00\\x00\\x00m A to B'"
   ],
   "metadata": {
    "collapsed": false,
    "pycharm": {
     "name": "#%% md\n"
    }
   }
  },
  {
   "cell_type": "code",
   "execution_count": 4,
   "outputs": [
    {
     "name": "stdout",
     "output_type": "stream",
     "text": [
      "b'\\x98vT2\\x10\\xab\\xcd\\xef\\x00\\x00\\x00\\x0b\\x00\\x00\\x00\\x00\\x00\\x00\\x00\\x00\\x00\\x00\\x00\\x00\\x00\\x00\\x00\\x00\\x00\\x00\\x00\\x00\\x00\\x00\\x00\\x00\\x00\\x00\\x00\\x00\\x00\\x00\\x00\\x00\\x00\\x00\\x00\\x00\\x00\\x00\\x00\\x00\\x00\\x00\\x00\\x00. Imagin'\n",
      "b'\\x98vT2\\x10\\xab\\xcd\\xef\\x00\\x00\\x00\\n\\x00\\x00\\x00\\x00\\x00\\x00\\x00\\x00\\x00\\x00\\x00\\x00\\x00\\x00\\x00\\x00\\x00\\x00\\x00\\x00\\x00\\x00\\x00\\x00\\x00\\x00\\x00\\x00\\x00\\x00\\x00\\x00\\x00\\x00\\x00\\x00\\x00\\x00\\x00\\x00\\x00\\x00\\x00\\x00m A to B'\n"
     ]
    }
   ],
   "source": [
    "def MNPAttack(Ns, es, cs):\n",
    "    \"\"\"\n",
    "    模不互素攻击。\n",
    "    原理：两组数据使用的N不互素，则它们的最大公因数是它们各自的一个因子。\n",
    "    :param Ns:\n",
    "    :param es:\n",
    "    :param cs:\n",
    "    :return:明文列表ms（数字形式）\n",
    "    \"\"\"\n",
    "    p = libnum.gcd(*Ns)\n",
    "    assert p != 1\n",
    "    qs = [N // p for N in Ns]\n",
    "    ds = [libnum.invmod(e, (p - 1) * (q - 1)) for e, q in zip(es, qs)]\n",
    "    ms = [pow(c, d, n) for c, d, n in zip(cs, ds, Ns)]\n",
    "    return ms\n",
    "\n",
    "Ns, es, cs = read_multiple_file([1, 18])\n",
    "ms = MNPAttack(Ns, es, cs)\n",
    "for m in ms:\n",
    "    print(libnum.n2s(m))"
   ],
   "metadata": {
    "collapsed": false,
    "pycharm": {
     "name": "#%%\n"
    }
   }
  },
  {
   "cell_type": "markdown",
   "source": [
    "### 查询数据库\n",
    "可以解出data2,data6,data19\n",
    "解密结果：\n",
    "data2: b'\\x98vT2\\x10\\xab\\xcd\\xef\\x00\\x00\\x00\\x06\\x00\\x00\\x00\\x00\\x00\\x00\\x00\\x00\\x00\\x00\\x00\\x00\\x00\\x00\\x00\\x00\\x00\\x00\\x00\\x00\\x00\\x00\\x00\\x00\\x00\\x00\\x00\\x00\\x00\\x00\\x00\\x00\\x00\\x00\\x00\\x00\\x00\\x00\\x00\\x00\\x00\\x00\\x00\\x00 That is'\n",
    "data6: b'\\x98vT2\\x10\\xab\\xcd\\xef\\x00\\x00\\x00\\x07\\x00\\x00\\x00\\x00\\x00\\x00\\x00\\x00\\x00\\x00\\x00\\x00\\x00\\x00\\x00\\x00\\x00\\x00\\x00\\x00\\x00\\x00\\x00\\x00\\x00\\x00\\x00\\x00\\x00\\x00\\x00\\x00\\x00\\x00\\x00\\x00\\x00\\x00\\x00\\x00\\x00\\x00\\x00\\x00 \"Logic '\n",
    "data19: b'\\x98vT2\\x10\\xab\\xcd\\xef\\x00\\x00\\x00\\x05\\x00\\x00\\x00\\x00\\x00\\x00\\x00\\x00\\x00\\x00\\x00\\x00\\x00\\x00\\x00\\x00\\x00\\x00\\x00\\x00\\x00\\x00\\x00\\x00\\x00\\x00\\x00\\x00\\x00\\x00\\x00\\x00\\x00\\x00\\x00\\x00\\x00\\x00\\x00\\x00\\x00\\x00\\x00\\x00instein.'"
   ],
   "metadata": {
    "collapsed": false,
    "pycharm": {
     "name": "#%% md\n"
    }
   }
  },
  {
   "cell_type": "code",
   "execution_count": 5,
   "outputs": [
    {
     "name": "stdout",
     "output_type": "stream",
     "text": [
      "[1719620105458406433483340568317543019584575635895742560438771105058321655238562613083979651479555788009994557822024565226932906295208262756822275663694111, 52484065122572767557293534477361686456679280880304125291106733197354892893647364164212186415880889674435558369420400890814461263958618375991691022752189839]\n",
      "b'\\x98vT2\\x10\\xab\\xcd\\xef\\x00\\x00\\x00\\x06\\x00\\x00\\x00\\x00\\x00\\x00\\x00\\x00\\x00\\x00\\x00\\x00\\x00\\x00\\x00\\x00\\x00\\x00\\x00\\x00\\x00\\x00\\x00\\x00\\x00\\x00\\x00\\x00\\x00\\x00\\x00\\x00\\x00\\x00\\x00\\x00\\x00\\x00\\x00\\x00\\x00\\x00\\x00\\x00 That is'\n",
      "[920724637201, 159482692259010816139523195494724350795654007589889398757383554027183924116413427533184220914037106543253535103452324841452565420868944985464229649420240708554088156331324206733727690785373464575525698274552058386560106163093965065830071277465943834308083708065429495092746028681968670036721164931]\n",
      "b'\\x98vT2\\x10\\xab\\xcd\\xef\\x00\\x00\\x00\\x07\\x00\\x00\\x00\\x00\\x00\\x00\\x00\\x00\\x00\\x00\\x00\\x00\\x00\\x00\\x00\\x00\\x00\\x00\\x00\\x00\\x00\\x00\\x00\\x00\\x00\\x00\\x00\\x00\\x00\\x00\\x00\\x00\\x00\\x00\\x00\\x00\\x00\\x00\\x00\\x00\\x00\\x00\\x00\\x00 \"Logic '\n",
      "[1085663496559, 86725761611859895386396141031497189948984447138542215420462553101081991008304507461163078354877970282649251051457532902955009856009405853917396630017011320500357081664483071782135584899953560478866041032397335990722689211113937797406269980402604895207480485168493674422769645640726941944110986793]\n",
      "b'\\x98vT2\\x10\\xab\\xcd\\xef\\x00\\x00\\x00\\x05\\x00\\x00\\x00\\x00\\x00\\x00\\x00\\x00\\x00\\x00\\x00\\x00\\x00\\x00\\x00\\x00\\x00\\x00\\x00\\x00\\x00\\x00\\x00\\x00\\x00\\x00\\x00\\x00\\x00\\x00\\x00\\x00\\x00\\x00\\x00\\x00\\x00\\x00\\x00\\x00\\x00\\x00\\x00\\x00instein.'\n"
     ]
    }
   ],
   "source": [
    "def DatabaseAttack(N, e, c):\n",
    "    \"\"\"\n",
    "    在factorDB数据库中查询N能否被直接分解。\n",
    "    解出data2 data6 data19\n",
    "    :param N:\n",
    "    :param e:\n",
    "    :param c:\n",
    "    :return: 明文m（数字形式）\n",
    "    \"\"\"\n",
    "    factor = FactorDB(N)\n",
    "    factor.connect()\n",
    "    res = factor.get_factor_list()\n",
    "    print(res)\n",
    "    if (res is None) or (len(res) > 2) or factor.get_status() == 'C':\n",
    "        raise Exception(f\"DatabaseAttack fails for N {N}\")\n",
    "    p, q = res[0], res[1]\n",
    "    r = (p - 1) * (q - 1)\n",
    "    d = libnum.invmod(e, r)\n",
    "    m = pow(c, d, N)\n",
    "    return m\n",
    "\n",
    "Ns, es, cs = read_multiple_file([2, 6, 19])\n",
    "for N, e, c in zip(Ns, es, cs):\n",
    "    m = DatabaseAttack(N, e, c)\n",
    "    print(libnum.n2s(m))"
   ],
   "metadata": {
    "collapsed": false,
    "pycharm": {
     "name": "#%%\n"
    }
   }
  },
  {
   "cell_type": "markdown",
   "source": [
    "### 低加密指数广播攻击\n",
    "可以解出data3,data8,data12,data16,data20\n",
    "解密结果：b'\\x98vT2\\x10\\xab\\xcd\\xef\\x00\\x00\\x00\\x01\\x00\\x00\\x00\\x00\\x00\\x00\\x00\\x00\\x00\\x00\\x00\\x00\\x00\\x00\\x00\\x00\\x00\\x00\\x00\\x00\\x00\\x00\\x00\\x00\\x00\\x00\\x00\\x00\\x00\\x00\\x00\\x00\\x00\\x00\\x00\\x00\\x00\\x00\\x00\\x00\\x00\\x00\\x00\\x00t is a f'"
   ],
   "metadata": {
    "collapsed": false,
    "pycharm": {
     "name": "#%% md\n"
    }
   }
  },
  {
   "cell_type": "code",
   "execution_count": 6,
   "outputs": [
    {
     "name": "stdout",
     "output_type": "stream",
     "text": [
      "True\n",
      "b'\\x98vT2\\x10\\xab\\xcd\\xef\\x00\\x00\\x00\\x01\\x00\\x00\\x00\\x00\\x00\\x00\\x00\\x00\\x00\\x00\\x00\\x00\\x00\\x00\\x00\\x00\\x00\\x00\\x00\\x00\\x00\\x00\\x00\\x00\\x00\\x00\\x00\\x00\\x00\\x00\\x00\\x00\\x00\\x00\\x00\\x00\\x00\\x00\\x00\\x00\\x00\\x00\\x00\\x00t is a f'\n"
     ]
    }
   ],
   "source": [
    "from functools import reduce\n",
    "def CRTAttack(Ns, e, cs):\n",
    "    \"\"\"\n",
    "    低加密指数广播攻击（中国剩余定理）。\n",
    "    原理：使用不同且互素的模数N、相同指数e且e较小，发送同一个数据m。根据中国剩余定理\n",
    "    可以找到x满足x = c_i mod n_i forall i，对x开e次方就得到明文m。\n",
    "    解出data3 data8 data12 data16 data20\n",
    "    :param Ns:\n",
    "    :param e:\n",
    "    :param cs:\n",
    "    :return: 明文m（数字形式） 或 None（攻击失败）\n",
    "    \"\"\"\n",
    "    if libnum.gcd(*Ns) != 1:\n",
    "        raise Exception(\"Input not pairwise co-prime\")\n",
    "    N_prod = reduce(lambda x, y: x * y, Ns)\n",
    "    res = 0\n",
    "    for c, N in zip(cs, Ns):\n",
    "        m = N_prod // N\n",
    "        m_inv = libnum.invmod(m, N)\n",
    "        res += c * m * m_inv\n",
    "        res %= N_prod\n",
    "    m, succ = gmpy2.iroot(res, e)\n",
    "    print(succ)\n",
    "    return int(m)\n",
    "\n",
    "Ns, es, cs = read_multiple_file([3, 8, 12, 16, 20])\n",
    "m = CRTAttack(Ns, es[0], cs)\n",
    "print(libnum.n2s(m))"
   ],
   "metadata": {
    "collapsed": false,
    "pycharm": {
     "name": "#%%\n"
    }
   }
  },
  {
   "cell_type": "markdown",
   "source": [
    "### Coppersmith已知部分填充攻击\n",
    "可以解出data7,data11,data15\n",
    "此为SageMath中可运行的脚本，鉴于在本地python程序中使用sage有点麻烦，建议访问https://sagecell.sagemath.org/在线运行\n",
    "解密结果：\n",
    "data7: b'\\x98vT2\\x10\\xab\\xcd\\xef\\x00\\x00\\x00\\x02\\x00\\x00\\x00\\x00\\x00\\x00\\x00\\x00\\x00\\x00\\x00\\x00\\x00\\x00\\x00\\x00\\x00\\x00\\x00\\x00\\x00\\x00\\x00\\x00\\x00\\x00\\x00\\x00\\x00\\x00\\x00\\x00\\x00\\x00\\x00\\x00\\x00\\x00\\x00\\x00\\x00\\x00\\x00\\x00amous sa'\n",
    "data11: b'\\x98vT2\\x10\\xab\\xcd\\xef\\x00\\x00\\x00\\x03\\x00\\x00\\x00\\x00\\x00\\x00\\x00\\x00\\x00\\x00\\x00\\x00\\x00\\x00\\x00\\x00\\x00\\x00\\x00\\x00\\x00\\x00\\x00\\x00\\x00\\x00\\x00\\x00\\x00\\x00\\x00\\x00\\x00\\x00\\x00\\x00\\x00\\x00\\x00\\x00\\x00\\x00\\x00\\x00ying of '\n",
    "data15: b'\\x98vT2\\x10\\xab\\xcd\\xef\\x00\\x00\\x00\\x04\\x00\\x00\\x00\\x00\\x00\\x00\\x00\\x00\\x00\\x00\\x00\\x00\\x00\\x00\\x00\\x00\\x00\\x00\\x00\\x00\\x00\\x00\\x00\\x00\\x00\\x00\\x00\\x00\\x00\\x00\\x00\\x00\\x00\\x00\\x00\\x00\\x00\\x00\\x00\\x00\\x00\\x00\\x00\\x00Albert E'"
   ],
   "metadata": {
    "collapsed": false,
    "pycharm": {
     "name": "#%% md\n"
    }
   }
  },
  {
   "cell_type": "code",
   "execution_count": 10,
   "outputs": [
    {
     "name": "stdout",
     "output_type": "stream",
     "text": [
      "b0: 7985094500508197619216095178940144263456537191513943586246038968032293358555096757707390195545717847658989113846815132728257700850422861694332469740830720\n",
      "\n",
      "delta: 169230328010303641331690318856389386196071598838855992136870091590247882556495704531248437872567112920983350278405979725889536\n",
      "\n",
      "155266493936043103849855199987896813716831986416707080645036022909153373110367007140301635144950634879983289720164117794783088845393686109145443728632527874768524615377182297125716276153800765906014206797548230661764274997562670900115383324605843933035314110752560290540848152237316752573471110899212429555149\n",
      "3\n",
      "124929943232081828105808318993257526364596580021564021377503915670544445679836588765369503919311404328043203272693851622132258819278328852726005776082575583793735570095307898828254568015886630010269615546857335790791577865565021730890364239443651479580968112031521485174068731577348690810906553798608040451024\n",
      "--------------------\n",
      "112306066601652819062206435724795595603085908011001671184332227488970057128128821831260649058569739569103298091727188365019228385820143813415009397359257831092635374404034997011441653286642458431865026213129412677064308342580757248577955071384972714557250468686599901682728173096745710849318629959223270431039\n",
      "3\n",
      "108387832390337770947361518376552702503741092284778824448943971792044922720461955035726863109418657218498659460663504872870862538725835055240750735576735249122665348803252691221869146679004017916359067454693701495389784159620341860394035373599823801288442604273046729873467936004227013186659110262247417571857\n",
      "--------------------\n",
      "147733349387696521015664992396355145811249793103958464053225389476050097503928022819269482555955365534137156079172704297584033078453033637103720972881068435459202133846880715879894340131656691631756162323422868846616160423755883726450486845175227682329583615739797782025647376042249605775433971714513081755709\n",
      "3\n",
      "52253817590056116368273294519761274350847193477090280916373828903718796358618956145225746496960677477661151583828604021049936963779103440560630451125137344639503705880024677345063113240530798352727432768980751992926293801206779839157443722614687126711272753610923903360818026083573711899014859313677159790039\n",
      "--------------------\n"
     ]
    }
   ],
   "source": [
    "b0 = libnum.s2n(b'\\x98vT2\\x10\\xab\\xcd\\xef\\x00\\x00\\x00\\x00\\x00\\x00\\x00\\x00\\x00\\x00\\x00\\x00\\x00\\x00\\x00\\x00\\x00\\x00\\x00\\x00\\x00\\x00\\x00\\x00\\x00\\x00\\x00\\x00\\x00\\x00\\x00\\x00\\x00\\x00\\x00\\x00\\x00\\x00\\x00\\x00\\x00\\x00\\x00\\x00\\x00\\x00\\x00\\x00\\x00\\x00\\x00\\x00\\x00\\x00\\x00\\x00')\n",
    "b1 = libnum.s2n(b'\\x98vT2\\x10\\xab\\xcd\\xef\\x00\\x00\\x00\\x01\\x00\\x00\\x00\\x00\\x00\\x00\\x00\\x00\\x00\\x00\\x00\\x00\\x00\\x00\\x00\\x00\\x00\\x00\\x00\\x00\\x00\\x00\\x00\\x00\\x00\\x00\\x00\\x00\\x00\\x00\\x00\\x00\\x00\\x00\\x00\\x00\\x00\\x00\\x00\\x00\\x00\\x00\\x00\\x00\\x00\\x00\\x00\\x00\\x00\\x00\\x00\\x00')\n",
    "delta = b1 - b0\n",
    "print(f'b0: {b0}\\n')\n",
    "print(f'delta: {delta}\\n')\n",
    "Ns, es, cs = read_multiple_file([7, 11, 15])\n",
    "for N, e, c in zip(Ns, es, cs):\n",
    "    print(N, e, c, sep='\\n')\n",
    "    print('-'*20)"
   ],
   "metadata": {
    "collapsed": false,
    "pycharm": {
     "name": "#%%\n"
    }
   }
  },
  {
   "cell_type": "code",
   "execution_count": 9,
   "outputs": [
    {
     "ename": "SyntaxError",
     "evalue": "invalid syntax (<ipython-input-9-0902e1df9238>, line 3)",
     "output_type": "error",
     "traceback": [
      "\u001B[1;36m  File \u001B[1;32m\"<ipython-input-9-0902e1df9238>\"\u001B[1;36m, line \u001B[1;32m3\u001B[0m\n\u001B[1;33m    R = sage PolynomialRing(Zmod(n), implementation='NTL', names=('x',)); (x,) = R._first_ngens(1)\u001B[0m\n\u001B[1;37m             ^\u001B[0m\n\u001B[1;31mSyntaxError\u001B[0m\u001B[1;31m:\u001B[0m invalid syntax\n"
     ]
    }
   ],
   "source": [
    "def CoppersmithAttack(high_m, N, e, c):\n",
    "    R.<x> = PolynomialRing(Zmod(N), implementation='NTL')\n",
    "    m = high_m + x\n",
    "    try:\n",
    "        M = m((m^e - c).small_roots()[0])\n",
    "        print(hex(int(M))[2:])\n",
    "    except IndexError:\n",
    "        print(m(m^e - c).small_roots())\n",
    "\n",
    "N = 147733349387696521015664992396355145811249793103958464053225389476050097503928022819269482555955365534137156079172704297584033078453033637103720972881068435459202133846880715879894340131656691631756162323422868846616160423755883726450486845175227682329583615739797782025647376042249605775433971714513081755709\n",
    "e = 3\n",
    "c = 52253817590056116368273294519761274350847193477090280916373828903718796358618956145225746496960677477661151583828604021049936963779103440560630451125137344639503705880024677345063113240530798352727432768980751992926293801206779839157443722614687126711272753610923903360818026083573711899014859313677159790039\n",
    "high_m = 7985094500508197619216095178940144263456537191513943586246038968032293358555096757707390195545717847658989113846815132728257700850422861694332469740830720\n",
    "delta = 169230328010303641331690318856389386196071598838855992136870091590247882556495704531248437872567112920983350278405979725889536\n",
    "for i in range(16):\n",
    "    CoppersmithAttack(high_m, N, e, c)\n",
    "    high_m += delta"
   ],
   "metadata": {
    "collapsed": false,
    "pycharm": {
     "name": "#%%\n"
    }
   }
  },
  {
   "cell_type": "markdown",
   "source": [
    "### 使用Fermat方法分解N\n",
    "可以解出data10\n",
    "解密结果：b'\\x98vT2\\x10\\xab\\xcd\\xef\\x00\\x00\\x00\\x08\\x00\\x00\\x00\\x00\\x00\\x00\\x00\\x00\\x00\\x00\\x00\\x00\\x00\\x00\\x00\\x00\\x00\\x00\\x00\\x00\\x00\\x00\\x00\\x00\\x00\\x00\\x00\\x00\\x00\\x00\\x00\\x00\\x00\\x00\\x00\\x00\\x00\\x00\\x00\\x00\\x00\\x00\\x00\\x00will get'"
   ],
   "metadata": {
    "collapsed": false,
    "pycharm": {
     "name": "#%% md\n"
    }
   }
  },
  {
   "cell_type": "code",
   "execution_count": 24,
   "outputs": [
    {
     "name": "stdout",
     "output_type": "stream",
     "text": [
      "b'\\x98vT2\\x10\\xab\\xcd\\xef\\x00\\x00\\x00\\x08\\x00\\x00\\x00\\x00\\x00\\x00\\x00\\x00\\x00\\x00\\x00\\x00\\x00\\x00\\x00\\x00\\x00\\x00\\x00\\x00\\x00\\x00\\x00\\x00\\x00\\x00\\x00\\x00\\x00\\x00\\x00\\x00\\x00\\x00\\x00\\x00\\x00\\x00\\x00\\x00\\x00\\x00\\x00\\x00will get'\n"
     ]
    }
   ],
   "source": [
    "def FermatFactor(n):\n",
    "    \"\"\"\n",
    "    Fermat因数分解。将奇数n表示为n=a^2-b^2的形式，就能得到分解n=(a+b)(a-b)，通过枚举a的值寻找相应的b\n",
    "    :param n:\n",
    "    :return: ((a+b), (a-b))\n",
    "    \"\"\"\n",
    "    def isqrt(n):\n",
    "        \"\"\"\n",
    "        求整数的平方根\n",
    "        :param n:\n",
    "        :return:\n",
    "        \"\"\"\n",
    "        x = n\n",
    "        y = (x + n // x) // 2\n",
    "        while y < x:\n",
    "            x = y\n",
    "            y = (x + n // x) // 2\n",
    "        return x\n",
    "    a = isqrt(n)\n",
    "    b2 = a*a - n\n",
    "    b = isqrt(n)\n",
    "    while b*b != b2:\n",
    "        a = a + 1\n",
    "        b2 = a*a - n\n",
    "        b = isqrt(b2)\n",
    "    p=a+b\n",
    "    q=a-b\n",
    "    assert n == p * q\n",
    "    return p, q\n",
    "\n",
    "N, e, c = read_file(\"./dataset/data10\")\n",
    "p, q = FermatFactor(N)\n",
    "r = (p - 1) * (q - 1)\n",
    "d = libnum.invmod(e, r)\n",
    "m = pow(c, d, N)\n",
    "print(libnum.n2s(m))"
   ],
   "metadata": {
    "collapsed": false,
    "pycharm": {
     "name": "#%%\n"
    }
   }
  },
  {
   "cell_type": "markdown",
   "source": [
    "## 以下为尝试后失败的方法，供参考\n",
    "---\n",
    "### 低加密指数爆破攻击\n",
    "因为数据进行了填充，该方法不能解出任何一组数据"
   ],
   "metadata": {
    "collapsed": false,
    "pycharm": {
     "name": "#%% md\n"
    }
   }
  },
  {
   "cell_type": "code",
   "execution_count": null,
   "outputs": [],
   "source": [
    "import threading\n",
    "def LowExpAttack(N, e, c, max_try, thread_num, start_at=0):\n",
    "    \"\"\"\n",
    "    低加密指数爆破攻击。\n",
    "    由c=m^e(mod N)得到m^e=k*N+c，枚举k再开e次方。最多枚举start_at+max_try*thread_num次\n",
    "    :param N:\n",
    "    :param e:\n",
    "    :param c:\n",
    "    :param max_try: 每一个线程，k的最多枚举次数\n",
    "    :param thread_num: 线程数\n",
    "    :param start_at: k的起始值\n",
    "    :return: 明文m（数字形式） 或 None（攻击失败）\n",
    "    \"\"\"\n",
    "    def calc(N, e, c, k_lower, k_upper, result, thread_idx):\n",
    "        k = k_lower\n",
    "        while k < k_upper:\n",
    "            res = gmpy2.iroot(c + k * N, e)\n",
    "            if res[1]:\n",
    "                result.append(res[0])\n",
    "                return\n",
    "            k += 1\n",
    "        print(f'Thread {thread_idx} which tests [{k_lower},{k_upper}) fails and ends')\n",
    "\n",
    "    result = []\n",
    "    # thread_num个线程, 线程i计算范围[start_at+max_try*i, start_at+max_try*(i+1)]\n",
    "    threads = [threading.Thread(target=calc,\n",
    "                                args=(\n",
    "                                    N, e, c, start_at + max_try * i, start_at + max_try * (i + 1), result, i))\n",
    "               for i in range(0, thread_num)]\n",
    "    for thread in threads:\n",
    "        thread.start()\n",
    "    for thread in threads:\n",
    "        thread.join()\n",
    "    if len(result) == 0:\n",
    "        print(f\"All threads fail to k: {thread_num * max_try + start_at}\")\n",
    "        return None\n",
    "    else:\n",
    "        return result[0]"
   ],
   "metadata": {
    "collapsed": false,
    "pycharm": {
     "name": "#%%\n"
    }
   }
  },
  {
   "cell_type": "markdown",
   "source": [
    "### Wiener攻击\n",
    "要求$d<\\frac{1}{3}N^\\frac{1}{4}$\n",
    "大概没有满足此要求的数据"
   ],
   "metadata": {
    "collapsed": false,
    "pycharm": {
     "name": "#%% md\n"
    }
   }
  },
  {
   "cell_type": "code",
   "execution_count": null,
   "outputs": [],
   "source": [
    "def WienerAttack(N, e):\n",
    "    \"\"\"\n",
    "    Wiener攻击。利用连分数分解近似得到ed，再解二元一次方程得到d\n",
    "    :param N:\n",
    "    :param e:\n",
    "    :param c:\n",
    "    :return: (p,q,k,d)\n",
    "    \"\"\"\n",
    "    def continued_fractions_expansion(e, N):\n",
    "        \"\"\"\n",
    "        将e/N展开为连分数。\n",
    "        :param e:\n",
    "        :param N:\n",
    "        :return:\n",
    "        \"\"\"\n",
    "        result = []\n",
    "        divident = e % N\n",
    "        quotient = e // N\n",
    "        result.append(quotient)\n",
    "        while divident != 0:\n",
    "            e -= quotient * N\n",
    "            N, e = e, N\n",
    "            divident = e % N\n",
    "            quotient = e // N\n",
    "            result.append(quotient)\n",
    "        return result\n",
    "\n",
    "    def convergents(expansion):\n",
    "        convergents = [(expansion[0], 1)]\n",
    "        for i in range(1, len(expansion)):\n",
    "            numerator = 1\n",
    "            denominator = expansion[i]\n",
    "            for j in range(i - 1, -1, -1):\n",
    "                numerator += expansion[j] * denominator\n",
    "                if j == 0:\n",
    "                    break\n",
    "                tmp = denominator\n",
    "                denominator = numerator\n",
    "                numerator = tmp\n",
    "            convergents.append((numerator, denominator))  # (k,d)\n",
    "        return convergents\n",
    "\n",
    "    cons = convergents(continued_fractions_expansion(e, N))\n",
    "    for cs in cons:\n",
    "        k, d = cs\n",
    "        if k == 0:\n",
    "            continue\n",
    "        phi_N = (e * d - 1) // k\n",
    "        # x**2 - ((N - phi_N) + 1) * x + N = 0\n",
    "        a = 1\n",
    "        b = -((N - phi_N) + 1)\n",
    "        c = N\n",
    "        delta = b * b - 4 * a * c\n",
    "        if delta <= 0:\n",
    "            continue\n",
    "        root = int(gmpy2.iroot(delta, 2)[0])\n",
    "        x1 = (root - b) // (2 * a)\n",
    "        x2 = -(root + b) // (2 * a)\n",
    "        if x1 * x2 == N:\n",
    "            return [x1, x2, k, d]"
   ],
   "metadata": {
    "collapsed": false,
    "pycharm": {
     "name": "#%%\n"
    }
   }
  },
  {
   "cell_type": "markdown",
   "source": [
    "### Pollard Rho, Pollard p-1, Williams p+1\n",
    "都属于分解N的算法，参见primefac中的实现，测试中在短时间内没能得出剩余未解密数据中的任何一例"
   ],
   "metadata": {
    "collapsed": false,
    "pycharm": {
     "name": "#%% md\n"
    }
   }
  },
  {
   "cell_type": "code",
   "execution_count": null,
   "outputs": [],
   "source": [
    "primefac.pollardrho_brent()\n",
    "primefac.pollard_pm1()\n",
    "primefac.williams_pp1()"
   ],
   "metadata": {
    "collapsed": false,
    "pycharm": {
     "name": "#%%\n"
    }
   }
  }
 ],
 "metadata": {
  "kernelspec": {
   "display_name": "Python 3",
   "language": "python",
   "name": "python3"
  },
  "language_info": {
   "codemirror_mode": {
    "name": "ipython",
    "version": 2
   },
   "file_extension": ".py",
   "mimetype": "text/x-python",
   "name": "python",
   "nbconvert_exporter": "python",
   "pygments_lexer": "ipython2",
   "version": "2.7.6"
  }
 },
 "nbformat": 4,
 "nbformat_minor": 0
}